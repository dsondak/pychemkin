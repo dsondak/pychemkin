{
 "cells": [
  {
   "cell_type": "code",
   "execution_count": 1,
   "metadata": {
    "collapsed": true
   },
   "outputs": [],
   "source": [
    "import re\n",
    "from copy import deepcopy\n",
    "import xml.etree.ElementTree as ET"
   ]
  },
  {
   "cell_type": "code",
   "execution_count": 7,
   "metadata": {},
   "outputs": [],
   "source": [
    "def species_txt_to_dict(txt_file):\n",
    "    #read the file\n",
    "    file = open(txt_file,'r')\n",
    "    lines = file.readlines()\n",
    "    file.close()\n",
    "    species_info = {}\n",
    "\n",
    "    #iterate over lines\n",
    "    for line in lines:\n",
    "        #spilt the line\n",
    "        strings = line.split()\n",
    "\n",
    "        #skip if string is empty array\n",
    "        if len(strings) <1:\n",
    "            continue  \n",
    "\n",
    "        #find line with species\n",
    "        if strings[-1] == '1':\n",
    "            #get species name\n",
    "            specie = strings[0]\n",
    "            specie_state = strings[1]\n",
    "\n",
    "            #get the low temp min and max\n",
    "            low_min = strings[-4]\n",
    "            low_max = 1000.000\n",
    "\n",
    "            #get the high temp min and max\n",
    "            high_min = 1000.000\n",
    "            high_max = strings[-3] \n",
    "\n",
    "        if strings[-1] == '2': \n",
    "            #spilt the line by number as the numbers are not broken up by spaces in txt file\n",
    "            strings = re.findall(r\"[+\\-]?(?:0|[1-9]\\d*)(?:\\.\\d*)?(?:[eE][+\\-]?\\d+)?\", line)\n",
    "\n",
    "            #get first 5 high coefs\n",
    "            high_coeffs = []\n",
    "            high_coeffs.extend(strings[0:-1])\n",
    "\n",
    "\n",
    "        if strings[-1] == '3': \n",
    "            #spilt the line by number as the numbers are not broken up by spaces in txt file\n",
    "            strings = re.findall(r\"[+\\-]?(?:0|[1-9]\\d*)(?:\\.\\d*)?(?:[eE][+\\-]?\\d+)?\", line)\n",
    "\n",
    "            #first two are high coeefs\n",
    "            high_coeffs.extend(strings[0:2])\n",
    "\n",
    "            #remaining are low coeffs\n",
    "            low_coeffs = []\n",
    "            low_coeffs.extend(strings[2:-1])\n",
    "\n",
    "        if strings[-1] == '4': \n",
    "            #spilt the line by number as the numbers are not broken up by spaces in txt file\n",
    "            strings = re.findall(r\"[+\\-]?(?:0|[1-9]\\d*)(?:\\.\\d*)?(?:[eE][+\\-]?\\d+)?\", line)\n",
    "\n",
    "            # get low coefs\n",
    "            low_coeffs.extend(strings[0:-1])\n",
    "\n",
    "            #Add to dictionary\n",
    "            species_info[specie,specie_state]={'low':{},'high':{}}\n",
    "            species_info[specie,specie_state]['low']['Tmax'] = low_max\n",
    "            species_info[specie,specie_state]['low']['Tmin'] = low_min\n",
    "            species_info[specie,specie_state]['low']['coeffs'] = low_coeffs\n",
    "            species_info[specie,specie_state]['high']['Tmax'] = high_max\n",
    "            species_info[specie,specie_state]['high']['Tmin'] = high_min\n",
    "            species_info[specie,specie_state]['high']['coeffs'] = high_coeffs\n",
    "    return species_info"
   ]
  },
  {
   "cell_type": "code",
   "execution_count": null,
   "metadata": {
    "collapsed": true
   },
   "outputs": [],
   "source": []
  }
 ],
 "metadata": {
  "kernelspec": {
   "display_name": "Python 3",
   "language": "python",
   "name": "python3"
  },
  "language_info": {
   "codemirror_mode": {
    "name": "ipython",
    "version": 3
   },
   "file_extension": ".py",
   "mimetype": "text/x-python",
   "name": "python",
   "nbconvert_exporter": "python",
   "pygments_lexer": "ipython3",
   "version": "3.6.1"
  }
 },
 "nbformat": 4,
 "nbformat_minor": 2
}
